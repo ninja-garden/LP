{
 "cells": [
  {
   "cell_type": "markdown",
   "metadata": {},
   "source": [
    "    Названия переменных:\n",
    "    \n",
    "Метаинформация о тексте: \n",
    "    'text' - Изначальный текст\n",
    "    'num_words' - количество слов\n",
    "    'words_list'- список слов\n",
    "    'words_len' - список длин слов\n",
    "    'num_sents' - кол-во сложных предложений\n",
    "    'sent_list' - список предложений\n",
    "    'num_syms' - кол-во символов\n",
    "\n",
    "Информация о сложном предложении:\n",
    "    'simp_sent_list' - список прост предложений\n",
    "    'sent_type' - кол-во прост предложений\n",
    "    'first_simp_sent_ind' - номер первого слова прост предл\n",
    "    'num_words_simp_sent' - кол-во слов простого предложения\n",
    "    \n",
    "Инф о простом предложении:\n",
    "    'word_comb'  - список словосочетаний\n",
    "    'word' - список слов \n",
    "    'simp_sent_type' - типы простых предложений \n",
    "    \n",
    "Инф о словосочетаниях:\n",
    "    'first_word_ind' - индекс первого слова\n",
    "    'word_comb_type' - тип словосочетания\n",
    "    'main_word_ind' - номер главного слова\n",
    "    \n",
    "Инф о словах:\n",
    "    'gramm_class' - грамматический класс\n",
    "    'flect_class' - флективный класс\n",
    "    'ending_len' - длина окончания\n",
    "    '4' - набор грамматических признаков\n",
    "    '5' - тип символьного представления"
   ]
  },
  {
   "cell_type": "code",
   "execution_count": 188,
   "metadata": {
    "scrolled": true
   },
   "outputs": [],
   "source": [
    "class Singleton(type):\n",
    "    _instances = {}\n",
    "    def __call__(cls, *args, **kwargs):\n",
    "        if cls not in cls._instances:\n",
    "            cls._instances[cls] = super(Singleton, cls).__call__(*args, **kwargs)\n",
    "        return cls._instances[cls]\n",
    "\n",
    "\n",
    "class TextStorage(metaclass=Singleton):\n",
    "    __metaclass__ = Singleton\n",
    "   \n",
    "    def __init__(self):\n",
    "        \n",
    "        self.__Text = { 'text': None ,'num_words' : 15 , 'words_list' : [],\n",
    "                        'words_len': [], 'num_sents':None, 'sent_list':None,\n",
    "                     'num_syms':None}   # Метаинформация о тексте\n",
    "        \n",
    "        self.__Sentence = {'simp_sent_list':[], 'sent_type':[], 'first_simp_sent_ind':[],\n",
    "                          'num_words_simp_sent':[]\n",
    "                            } # Информация о сложном предложении\n",
    "        \n",
    "        self.__SimpleSentence = {'word_comb':[], 'word':[], 'simp_sent_type':[]\n",
    "                                } # Инф о простом предложении\n",
    "        \n",
    "        self.__WordCombination = {'first_word_ind':[],'word_comb_type':[],\n",
    "                                  'main_word_ind':[]\n",
    "                                 } # Инф о словосочетаниях\n",
    "        \n",
    "        self.__Word = {'gramm_class':[],'flect_class':[],'ending_len':[],\n",
    "                      '4':[], '5':[]} # Инф о словах\n",
    "\n",
    "    @property\n",
    "    def Text(self):   \n",
    "        return self.__Text   \n",
    "    @Text.setter\n",
    "    def Text(self, value):\n",
    "        self.__Text = value\n",
    "#        if a in self.__Text[a]:\n",
    "#            print('da')\n",
    "#            self.__Text[a] = value\n",
    "#        else:\n",
    "#            print('no attr')\n",
    "    \n",
    "    @property\n",
    "    def Sent(self):   \n",
    "        return self.__Sentence\n",
    "    @Sent.setter\n",
    "    def Sent(self, value):   \n",
    "        self.__Sentence = value\n",
    "        \n",
    "    @property\n",
    "    def SimpSent(self):   \n",
    "        return self.__SimpleSentence\n",
    "    @SimpSent.setter\n",
    "    def SimpSent(self, value):   \n",
    "        self.__SimpleSentence = value\n",
    "\n",
    "    @property\n",
    "    def WordComb(self):   \n",
    "        return self.__WordCombination\n",
    "    @WordComb.setter\n",
    "    def WordComb(self, value):   \n",
    "        self.__WordCombination = value\n",
    "\n",
    "    @property\n",
    "    def Word(self):   \n",
    "        return self.__Word\n",
    "    @Word.setter\n",
    "    def Word(self, value):   \n",
    "        self.__Word = value"
   ]
  },
  {
   "cell_type": "code",
   "execution_count": 190,
   "metadata": {},
   "outputs": [
    {
     "data": {
      "text/plain": [
       "<__main__.TextStorage at 0x5579978>"
      ]
     },
     "execution_count": 190,
     "metadata": {},
     "output_type": "execute_result"
    }
   ],
   "source": [
    "TextStorage()"
   ]
  },
  {
   "cell_type": "code",
   "execution_count": 191,
   "metadata": {},
   "outputs": [
    {
     "data": {
      "text/plain": [
       "{__main__.TextStorage: <__main__.TextStorage at 0x5579978>}"
      ]
     },
     "execution_count": 191,
     "metadata": {},
     "output_type": "execute_result"
    }
   ],
   "source": [
    "Singleton._instances"
   ]
  },
  {
   "cell_type": "code",
   "execution_count": 192,
   "metadata": {},
   "outputs": [
    {
     "name": "stdout",
     "output_type": "stream",
     "text": [
      "Object created <__main__.TextStorage object at 0x0000000005579978>\n"
     ]
    }
   ],
   "source": [
    "# Как взаимодействовать с хранилищем:\n",
    "\n",
    "# Создаем экземпляр:\n",
    "s = TextStorage()\n",
    "print(\"Object created\", s)"
   ]
  },
  {
   "cell_type": "code",
   "execution_count": 193,
   "metadata": {},
   "outputs": [
    {
     "name": "stdout",
     "output_type": "stream",
     "text": [
      "Object created <__main__.TextStorage object at 0x0000000005579978>\n"
     ]
    }
   ],
   "source": [
    "s1 = TextStorage()\n",
    "print(\"Object created\", s1)"
   ]
  },
  {
   "cell_type": "code",
   "execution_count": 158,
   "metadata": {},
   "outputs": [
    {
     "data": {
      "text/plain": [
       "{'text': None,\n",
       " 'num_words': 15,\n",
       " 'words_list': [],\n",
       " 'words_len': [],\n",
       " 'num_sents': None,\n",
       " 'sent_list': None,\n",
       " 'num_syms': None}"
      ]
     },
     "execution_count": 158,
     "metadata": {},
     "output_type": "execute_result"
    }
   ],
   "source": [
    "# Как доставать значения:\n",
    "\n",
    "s.Text"
   ]
  },
  {
   "cell_type": "code",
   "execution_count": 100,
   "metadata": {},
   "outputs": [
    {
     "data": {
      "text/plain": [
       "[]"
      ]
     },
     "execution_count": 100,
     "metadata": {},
     "output_type": "execute_result"
    }
   ],
   "source": [
    "s.inst.WordComb['first_word_ind']"
   ]
  },
  {
   "cell_type": "code",
   "execution_count": 101,
   "metadata": {},
   "outputs": [],
   "source": [
    "#Как записывать:\n",
    "s.inst.Text['text'] = 'asdf23fcxSZ'"
   ]
  },
  {
   "cell_type": "code",
   "execution_count": 102,
   "metadata": {},
   "outputs": [
    {
     "data": {
      "text/plain": [
       "{'text': 'asdf23fcxSZ',\n",
       " 'num_words': 15,\n",
       " 'words_list': [],\n",
       " 'words_len': [],\n",
       " 'num_sents': None,\n",
       " 'sent_list': None,\n",
       " 'num_syms': None}"
      ]
     },
     "execution_count": 102,
     "metadata": {},
     "output_type": "execute_result"
    }
   ],
   "source": [
    "s.inst.Text"
   ]
  },
  {
   "cell_type": "code",
   "execution_count": null,
   "metadata": {},
   "outputs": [],
   "source": []
  }
 ],
 "metadata": {
  "kernelspec": {
   "display_name": "Python 3",
   "language": "python",
   "name": "python3"
  },
  "language_info": {
   "codemirror_mode": {
    "name": "ipython",
    "version": 3
   },
   "file_extension": ".py",
   "mimetype": "text/x-python",
   "name": "python",
   "nbconvert_exporter": "python",
   "pygments_lexer": "ipython3",
   "version": "3.7.0"
  }
 },
 "nbformat": 4,
 "nbformat_minor": 2
}
