{
 "cells": [
  {
   "cell_type": "code",
   "execution_count": 4,
   "metadata": {},
   "outputs": [],
   "source": [
    "#from pymystem3 import Mystem\n",
    "#!pip install pymorphy2\n",
    "import pymorphy2\n",
    "import re \n",
    "#!pip install pymystem3\n",
    "#!pip install git+https://github.com/nlpub/pymystem3"
   ]
  },
  {
   "cell_type": "code",
   "execution_count": 3,
   "metadata": {},
   "outputs": [],
   "source": [
    "class TextStorage():\n",
    "    \n",
    "    def __new__(self):\n",
    "        if not hasattr(self, 'instance'):\n",
    "            self.inst = super(TextStorage, self).__new__(self)\n",
    "        return self.inst\n",
    "    \n",
    "    def __init__(self):\n",
    "        \n",
    "        self.__Text = { 'text': None ,'num_words' : 15 , 'words_list' : [],\n",
    "                        'words_len': [], 'num_sents':None, 'sent_list':None,\n",
    "                     'num_syms':None}   # Метаинформация о тексте\n",
    "        \n",
    "        self.__Sentence = {'simp_sent_list':[], 'sent_type':[], 'first_simp_sent_ind':[],\n",
    "                          'num_words_simp_sent':[]\n",
    "                            } # Информация о сложном предложении\n",
    "        \n",
    "        self.__SimpleSentence = {'word_comb':[], 'word':[], 'simp_sent_type':[]\n",
    "                                } # Инф о простом предложении\n",
    "        \n",
    "        self.__WordCombination = {'first_word_ind':[],'word_comb_type':[],\n",
    "                                  'main_word_ind':[]\n",
    "                                 } # Инф о словосочетаниях\n",
    "        \n",
    "        self.__Word = {'gramm_class':[],'flect_class':[],'ending_len':[],\n",
    "                      '4':[], '5':[]} # Инф о словах\n",
    "\n",
    "    @property\n",
    "    def Text(self):   \n",
    "        return self.__Text   \n",
    "    @Text.setter\n",
    "    def Text(self, value):\n",
    "        self.__Text = value\n",
    "#        if a in self.__Text[a]:\n",
    "#            print('da')\n",
    "#            self.__Text[a] = value\n",
    "#        else:\n",
    "#            print('no attr')\n",
    "    \n",
    "    @property\n",
    "    def Sent(self):   \n",
    "        return self.__Sentence\n",
    "    @Sent.setter\n",
    "    def Sent(self, value):   \n",
    "        self.__Sentence = value\n",
    "        \n",
    "    @property\n",
    "    def SimpSent(self):   \n",
    "        return self.__SimpleSentence\n",
    "    @SimpSent.setter\n",
    "    def SimpSent(self, value):   \n",
    "        self.__SimpleSentence = value\n",
    "\n",
    "    @property\n",
    "    def WordComb(self):   \n",
    "        return self.__WordCombination\n",
    "    @WordComb.setter\n",
    "    def WordComb(self, value):   \n",
    "        self.__WordCombination = value\n",
    "\n",
    "    @property\n",
    "    def Word(self):   \n",
    "        return self.__Word\n",
    "    @Word.setter\n",
    "    def Word(self, value):   \n",
    "        self.__Word = value"
   ]
  },
  {
   "cell_type": "code",
   "execution_count": 88,
   "metadata": {},
   "outputs": [
    {
     "name": "stdout",
     "output_type": "stream",
     "text": [
      "\n",
      "\n"
     ]
    }
   ],
   "source": [
    "storage = TextStorage()\n",
    "storage.Text['raw_text']\n",
    "storage.Text['raw_text'] = 'Машина ехала по дороге. Вася пил пиво'"
   ]
  },
  {
   "cell_type": "code",
   "execution_count": 85,
   "metadata": {},
   "outputs": [
    {
     "name": "stdout",
     "output_type": "stream",
     "text": [
      "\n"
     ]
    },
    {
     "data": {
      "text/plain": [
       "'Машина ехала по дороге. Вася пил пиво'"
      ]
     },
     "execution_count": 85,
     "metadata": {},
     "output_type": "execute_result"
    }
   ],
   "source": [
    "storage.Text['raw_text']"
   ]
  },
  {
   "cell_type": "code",
   "execution_count": 90,
   "metadata": {},
   "outputs": [
    {
     "name": "stdout",
     "output_type": "stream",
     "text": [
      "\n"
     ]
    }
   ],
   "source": [
    "storage.Text['num_words'] = 100"
   ]
  },
  {
   "cell_type": "code",
   "execution_count": 91,
   "metadata": {},
   "outputs": [
    {
     "name": "stdout",
     "output_type": "stream",
     "text": [
      "\n"
     ]
    },
    {
     "data": {
      "text/plain": [
       "100"
      ]
     },
     "execution_count": 91,
     "metadata": {},
     "output_type": "execute_result"
    }
   ],
   "source": [
    "storage.Text['num_words']"
   ]
  },
  {
   "cell_type": "code",
   "execution_count": 6,
   "metadata": {
    "scrolled": true
   },
   "outputs": [],
   "source": [
    "#Функция нахождения словосочетаний по ключевым словам (на входе слова по классам)\n",
    "def Find_Collocations(sentence):\n",
    "    separators = ['F','&','V','L','K',',']\n",
    "    posible_words = ['N','A','0','O','i','g','s','k','K','L','V','F','h','M','I']\n",
    "    result = [[]]\n",
    "    for sent in sentence:\n",
    "        if (sent in separators) or not(sent in posible_words):\n",
    "            result.append([sent])\n",
    "            result.append([])\n",
    "        else:\n",
    "            result[-1].append(sent)\n",
    "    i = 0\n",
    "    while i < len(result):\n",
    "        if len(result[i]) > 1:\n",
    "            result[i] = tuple(result[i])\n",
    "            i+=1\n",
    "        elif len(result[i]) == 1:\n",
    "            if not(result[i][0] in ['.',',']):\n",
    "                result[i] = 'I'\n",
    "            else:\n",
    "                result[i] = result[i][0]\n",
    "            i+=1\n",
    "        else:\n",
    "            del result[i]\n",
    "    return result\n",
    "#Функция определения типа словосочетания\n",
    "def CollocationType(collocation):\n",
    "    NA = ['N','A','0','O','i','g','s','k']\n",
    "    VA = ['K','L','V','F','h','M','I']\n",
    "    for word_type in collocation:\n",
    "        if word_type in NA:\n",
    "            return 'NA'\n",
    "        elif word_type in VA:\n",
    "            return 'VA'\n",
    "def find_the_main_word(collocation):\n",
    "    if len(collocation) == 1:\n",
    "        return 1\n",
    "    if CollocationType(collocation) == 'NA':\n",
    "        if 'N' in collocation:\n",
    "            return collocation.index('N') + 1\n",
    "    elif CollocationType(collocation) == 'VA':\n",
    "        if 'K' in collocation:\n",
    "            return collocation.index('K') + 1\n",
    "        elif 'L' in collocation:\n",
    "            return collocation.index('L') + 1\n",
    "        elif 'V' in collocation:\n",
    "            return collocation.index('V') + 1\n",
    "#Функция вывода информации о совосочетаниях (принимает на вход результат функции Collocations)\n",
    "def CollocationsInfo(collocations):\n",
    "    collocations_info = [[1,len(collocations[0])]]\n",
    "    for encoding in collocations[1:]:\n",
    "        \n",
    "        collocations_info.append([collocations_info[-1][0]+collocations_info[-1][1],len(encoding)])\n",
    "    for i in range(len(collocations)):\n",
    "        collocations_info[i].append(CollocationType(collocations[i]))\n",
    "        collocations_info[i].append(find_the_main_word(collocations[i]))\n",
    "        collocations_info[i].append(collocations[i])\n",
    "    k = 0 \n",
    "    while k < len(collocations_info):\n",
    "        if collocations_info[k][1] == 1:\n",
    "            del collocations_info[k]\n",
    "        else:\n",
    "            k+=1\n",
    "    return [tuple(info) for info in collocations_info]\n",
    "\n",
    "\n",
    "#функция информация по словосочетаниям\n",
    "def Collocations(sent, morf):\n",
    "    colloc = Find_Collocations(sent)\n",
    "    colloc_info = CollocationsInfo(colloc)\n",
    "    for info in colloc_info:\n",
    "        print('словосочетание:',info[4])\n",
    "        print('№ первого слова словосочетания в предложении:',info[0])\n",
    "        print('длинна словосочетания:', info[1])\n",
    "        print('Тип словосочетания:', info[2])\n",
    "        print('номер главного слова:',info[3])\n",
    "        print()\n",
    "    return colloc_info"
   ]
  },
  {
   "cell_type": "code",
   "execution_count": 7,
   "metadata": {},
   "outputs": [],
   "source": [
    "#функция определения класса слов\n",
    "def class_word(word_list):\n",
    "    dict_class = {'NOUN':'N',\n",
    "                    'ADJF':'A',\n",
    "                    'VERB':'V',\n",
    "                    'PRTS':'K',\n",
    "                    'INFN':'I',\n",
    "                    'PRTF':'W',\n",
    "                    'GRND':'D',\n",
    "                    'NUMR':'O',\n",
    "                    'ADVB':'Y',\n",
    "                    'PREP':'F',\n",
    "                    'CONJ':'&',\n",
    "                    'NPRO':'i',\n",
    "                    'INTJ':'!'}\n",
    "    morph = pymorphy2.MorphAnalyzer()\n",
    "    list_punctuation =['.',',','!','–','\"','?','(',')','{','}','[',']']\n",
    "    sens = [morph.parse(word)[0].tag.POS if not(word in list_punctuation) \n",
    "            else word  for word in word_list]\n",
    "    for i,word in enumerate(word_list):\n",
    "        if (sens[i]=='VERB')and(morph.parse(word)[0].tag.tense=='past'):\n",
    "            sens[i] = 'L' \n",
    "    list_class = [dict_class.get(word) if not(str(word) in list_punctuation) and (word in dict_class.keys())\n",
    "            else word  for word in sens]\n",
    "    return list_class"
   ]
  },
  {
   "cell_type": "code",
   "execution_count": 8,
   "metadata": {},
   "outputs": [],
   "source": [
    "#функция нахождения главных слов в словосочетаниях\n",
    "def Find_main_word(sent):\n",
    "    coll_info = CollocationsInfo(Find_Collocations(sent))\n",
    "    result = []\n",
    "    for info in coll_info:\n",
    "        result.append(info[0]+info[3]-2)\n",
    "    return result"
   ]
  },
  {
   "cell_type": "code",
   "execution_count": 9,
   "metadata": {},
   "outputs": [],
   "source": [
    "def find_all_N_morf_info(sent, morf):\n",
    "    main_N = Find_main_word(sent)\n",
    "    result = [(sent[N],N,morf[N]) for N in main_N]\n",
    "    return result\n",
    "def find_all_KLV_morf_info(sent, morf):\n",
    "    result = []\n",
    "    for i in range(len(sent)):\n",
    "        if sent[i] in ['K', 'L', 'V']:\n",
    "            result.append((sent[i], i, morf[i]))\n",
    "    return result\n",
    "#3 и далее. вторая равна, 0 у N,  3 у V\n",
    "def equal(N, KLV):\n",
    "    N_morf = N[2].split('/')[2:]\n",
    "    KLV_morf = KLV[2].split('/')[2:]\n",
    "    for morf_N_i in N_morf:\n",
    "        for morf_KLV_i in KLV_morf:\n",
    "            if KLV[0]=='V' and (morf_N_i[1]==morf_KLV_i[1]) and (morf_N_i[-1]=='0')and(morf_KLV_i[-1]=='3'):\n",
    "                return True\n",
    "            elif (KLV[0] in ['K','L']) and (morf_N_i[:2]==morf_KLV_i[:2]):\n",
    "                return True\n",
    "    return False"
   ]
  },
  {
   "cell_type": "code",
   "execution_count": 10,
   "metadata": {},
   "outputs": [],
   "source": [
    "#функция определения подлежащего и сказуемого\n",
    "def s_p(sent,morf):\n",
    "    ind,ind_P=None,None\n",
    "    sent1=sent.copy()\n",
    "    if 'i' in sent:\n",
    "        ind = sent.index('i')\n",
    "        if ('V' in sent):\n",
    "            ind_P = sent.index('V')\n",
    "        elif('K' in sent):\n",
    "            ind_P = sents.index('K')\n",
    "        elif('L' in sent[ind:]):\n",
    "            ind_P = sent.index('L')  \n",
    "        sent1[ind]='S'\n",
    "        sent1[ind_P]='P'\n",
    "        return (sent1,ind,ind_P)\n",
    "    possible_SP=[]\n",
    "    all_N = find_all_N_morf_info(sent, morf)\n",
    "    all_KLV = find_all_KLV_morf_info(sent, morf)\n",
    "    for N in all_N:\n",
    "        for KLV in all_KLV:\n",
    "            if equal(N,KLV):\n",
    "                possible_SP.append((N[1],KLV[1]))\n",
    "    true_sp = False\n",
    "    for SP in possible_SP:\n",
    "        if SP[0]<SP[1]:\n",
    "            true_sp = True\n",
    "    if true_sp:\n",
    "        i = 0\n",
    "        while i < len(possible_SP):\n",
    "            if possible_SP[i][0]>possible_SP[i][1]:\n",
    "                del possible_SP[i]\n",
    "            else:\n",
    "                i+=1\n",
    "    possible_SP[0][0]\n",
    "    sent1[possible_SP[0][0]]='S'\n",
    "    sent1[possible_SP[0][1]]='P'\n",
    "    return (sent1,possible_SP[0][0],possible_SP[0][1])\n",
    "    #return possible_SP"
   ]
  },
  {
   "cell_type": "code",
   "execution_count": 11,
   "metadata": {},
   "outputs": [],
   "source": [
    "#функция определения скелета предложения\n",
    "def skel_sent(sent_sp, ind_main, S,P):\n",
    "    sent = sent_sp.copy()\n",
    "    for i,k in enumerate(sent):\n",
    "        if not((k =='F') or (i in ind_main+[S,P])or k in[',','.','–',':',';']):\n",
    "            sent[i] = None\n",
    "    return sent"
   ]
  },
  {
   "cell_type": "code",
   "execution_count": 12,
   "metadata": {},
   "outputs": [],
   "source": [
    "def storage_interface(sent, TextStorage):\n",
    "    morf_class = class_word(sent)\n",
    "    colloc = Find_Collocations(morf_class)\n",
    "    colloc_info = CollocationsInfo(colloc)\n",
    "    first_word_ind = [info[0] for info in colloc_info]\n",
    "    word_comb_type = [info[2] for info in colloc_info]\n",
    "    main_word_ind = [info[3] for info in colloc_info]\n",
    "    return {'first_word_ind':first_word_ind, 'word_comb_type':word_comb_type, 'main_word_ind':main_word_ind}"
   ]
  },
  {
   "cell_type": "code",
   "execution_count": 13,
   "metadata": {
    "scrolled": true
   },
   "outputs": [
    {
     "data": {
      "text/plain": [
       "['D', 'A', 'N', 'F', 'N', 'F', 'A', 'N', ',', 'i', 'L', 'N', 'A', 'N', '.']"
      ]
     },
     "execution_count": 13,
     "metadata": {},
     "output_type": "execute_result"
    }
   ],
   "source": [
    "sent = \"Сняв влажное покрывало со скульптуры в натуральную величину, он оценил взглядом свою работу.\"\n",
    "sent = sent.split()\n",
    "sent[7]='величину'\n",
    "sent.insert(8,',')\n",
    "sent[-1] = 'работу'\n",
    "sent.insert(14,'.')\n",
    "\n",
    "morf = ['00/152/0000','02/103/3110/3140','01/070/','00/160/0050','01/056/2120/2210/2240', '00/157/0040',\n",
    "       '02/103/2140','01/056/2140','00/145/1110','00/117/1100','02/001/1150','01/103/2140','01/056/2140']\n",
    "morf.insert(9,None)\n",
    "morf.insert(10,None)\n",
    "morf.insert(13,None)\n",
    "morf.insert(15,None)\n",
    "\n",
    "#классы слов\n",
    "morf_klass = class_word(sent)\n",
    "#morf_klass[9]='M'\n",
    "#morf_klass[12]='M'\n",
    "morf_klass"
   ]
  },
  {
   "cell_type": "code",
   "execution_count": 22,
   "metadata": {},
   "outputs": [],
   "source": [
    "morf = ['00/152/0000','02/103/3110/3140','01/070/','00/160/0050','01/056/2120/2210/2240', '00/157/0040',\n",
    "       '02/103/2140','01/056/2140','00/145/1110','00/117/1100','02/001/1150','01/103/2140','01/056/2140']\n",
    "morf.insert(9,',')\n",
    "morf.insert(15,'.')\n",
    "\n"
   ]
  },
  {
   "cell_type": "code",
   "execution_count": 27,
   "metadata": {},
   "outputs": [
    {
     "name": "stdout",
     "output_type": "stream",
     "text": [
      "['I', ('A', 'N'), 'I', 'I', 'I', ('A', 'N'), ',', 'I', 'I', ('N', 'A', 'N'), '.']\n",
      "словосочетание: ('A', 'N')\n",
      "№ первого слова словосочетания в предложении: 2\n",
      "длинна словосочетания: 2\n",
      "Тип словосочетания: NA\n",
      "номер главного слова: 2\n",
      "\n",
      "словосочетание: ('A', 'N')\n",
      "№ первого слова словосочетания в предложении: 7\n",
      "длинна словосочетания: 2\n",
      "Тип словосочетания: NA\n",
      "номер главного слова: 2\n",
      "\n",
      "словосочетание: ('N', 'A', 'N')\n",
      "№ первого слова словосочетания в предложении: 12\n",
      "длинна словосочетания: 3\n",
      "Тип словосочетания: NA\n",
      "номер главного слова: 1\n",
      "\n"
     ]
    },
    {
     "data": {
      "text/plain": [
       "[(2, 2, 'NA', 2, ('A', 'N')),\n",
       " (7, 2, 'NA', 2, ('A', 'N')),\n",
       " (12, 3, 'NA', 1, ('N', 'A', 'N'))]"
      ]
     },
     "execution_count": 27,
     "metadata": {},
     "output_type": "execute_result"
    }
   ],
   "source": [
    "#информация о словосочетаниях\n",
    "print(Find_Collocations(morf_klass))\n",
    "Collocations(morf_klass, morf)"
   ]
  },
  {
   "cell_type": "code",
   "execution_count": 29,
   "metadata": {
    "scrolled": true
   },
   "outputs": [
    {
     "data": {
      "text/plain": [
       "['D', 'A', 'N', 'F', 'N', 'F', 'A', 'N', ',', 'S', 'P', 'N', 'A', 'N', '.']"
      ]
     },
     "execution_count": 29,
     "metadata": {},
     "output_type": "execute_result"
    }
   ],
   "source": [
    "morf_klass2 = morf_klass.copy()\n",
    "s_p(morf_klass2,morf)\n",
    "#получение предложения с подлежащим и сказуемым. Вывод индекса подл. и сказ.\n",
    "s_p_sent,S,P = s_p(morf_klass2,morf)\n",
    "s_p_sent"
   ]
  },
  {
   "cell_type": "code",
   "execution_count": 33,
   "metadata": {},
   "outputs": [
    {
     "name": "stdout",
     "output_type": "stream",
     "text": [
      "[None, None, 'N', 'F', None, 'F', None, 'N', ',', 'S', 'P', 'N', None, None, '.']\n"
     ]
    }
   ],
   "source": [
    "#поиск индексов главных слов в словосочетаниях\n",
    "ind_m = Find_main_word(morf_klass2)\n",
    "#скелет предложения\n",
    "print(skel_sent(s_p_sent, ind_m, S,P))"
   ]
  },
  {
   "cell_type": "markdown",
   "metadata": {},
   "source": [
    "## Пример 2"
   ]
  },
  {
   "cell_type": "code",
   "execution_count": 67,
   "metadata": {},
   "outputs": [],
   "source": [
    "sent2='Я устал от нашего жалкого существования .'\n",
    "sent2_lis=sent2.split()\n",
    "morf_klass = class_word(sent2_lis)\n"
   ]
  },
  {
   "cell_type": "code",
   "execution_count": 68,
   "metadata": {},
   "outputs": [
    {
     "data": {
      "text/plain": [
       "['i', 'L', 'F', 'A', 'A', 'N', '.']"
      ]
     },
     "execution_count": 68,
     "metadata": {},
     "output_type": "execute_result"
    }
   ],
   "source": [
    "#классы слов\n",
    "morf_klass"
   ]
  },
  {
   "cell_type": "code",
   "execution_count": 69,
   "metadata": {},
   "outputs": [
    {
     "name": "stdout",
     "output_type": "stream",
     "text": [
      "словосочетание: ('A', 'A', 'N')\n",
      "№ первого слова словосочетания в предложении: 4\n",
      "длинна словосочетания: 3\n",
      "Тип словосочетания: NA\n",
      "номер главного слова: 3\n",
      "\n"
     ]
    },
    {
     "data": {
      "text/plain": [
       "[(4, 3, 'NA', 3, ('A', 'A', 'N'))]"
      ]
     },
     "execution_count": 69,
     "metadata": {},
     "output_type": "execute_result"
    }
   ],
   "source": [
    "#информация о словосочетаниях\n",
    "morf=[]\n",
    "Collocations(morf_klass, morf)"
   ]
  },
  {
   "cell_type": "code",
   "execution_count": 73,
   "metadata": {},
   "outputs": [
    {
     "data": {
      "text/plain": [
       "['S', 'P', 'F', 'A', 'A', 'N', '.']"
      ]
     },
     "execution_count": 73,
     "metadata": {},
     "output_type": "execute_result"
    }
   ],
   "source": [
    "#поиск индексов главных слов в словосочетаниях\n",
    "ind_m = Find_main_word(morf_klass)\n",
    "#получение предложения с подлежащим и сказуемым. Вывод индекса подл. и сказ.\n",
    "s_p_sent,S,P = s_p(morf_klass,morf)\n",
    "s_p_sent"
   ]
  },
  {
   "cell_type": "code",
   "execution_count": 74,
   "metadata": {},
   "outputs": [
    {
     "data": {
      "text/plain": [
       "['S', 'P', 'F', None, None, 'N', '.']"
      ]
     },
     "execution_count": 74,
     "metadata": {},
     "output_type": "execute_result"
    }
   ],
   "source": [
    "#скелет предложения\n",
    "skel_sent(s_p_sent, ind_m, S,P)"
   ]
  },
  {
   "cell_type": "code",
   "execution_count": 50,
   "metadata": {
    "scrolled": true
   },
   "outputs": [
    {
     "name": "stdout",
     "output_type": "stream",
     "text": [
      "классы слов:\n",
      "i V I F N\n",
      "предложение с подлежащим:\n",
      "S P F A A N .\n",
      "скелет предложения:\n",
      "\n"
     ]
    },
    {
     "data": {
      "text/plain": [
       "['S', 'P', 'F', None, None, 'N', '.']"
      ]
     },
     "execution_count": 50,
     "metadata": {},
     "output_type": "execute_result"
    }
   ],
   "source": [
    "s = 'Он идет гулять в парк'\n",
    "s2=s.split()\n",
    "morf_klass3 = class_word(s2)\n",
    "print(\"классы слов:\\n\"+' '.join(morf_klass3))\n",
    "#поиск индексов главных слов в словосочетаниях\n",
    "ind_m = Find_main_word(morf_klass)\n",
    "#получение предложения с подлежащим и сказуемым. Вывод индекса подл. и сказ.\n",
    "s_p_sent,S,P = s_p(morf_klass,morf)\n",
    "print(\"предложение с подлежащим:\\n\"+ \" \".join(s_p_sent))\n",
    "print(\"скелет предложения:\\n\")\n",
    "skel_sent(s_p_sent, ind_m, S,P)"
   ]
  },
  {
   "cell_type": "code",
   "execution_count": 75,
   "metadata": {},
   "outputs": [],
   "source": [
    "sent = \"Параметры модели задаются либо статическими характеристиками , либо множествами возможных значений\"\n",
    "s2=sent.split()\n",
    "s2_m=class_word(s2)\n",
    "morf = ['01/001/1210/1240','01/055/2120/2130/2160/2210/2240','04/116/0203','00/156/0000','03/106/0250', '03/060/2250',\n",
    "       ',','00/156/0000','03/070/3250','03/103/0220/0260','02/077/3220']"
   ]
  },
  {
   "cell_type": "code",
   "execution_count": 53,
   "metadata": {
    "scrolled": true
   },
   "outputs": [
    {
     "data": {
      "text/plain": [
       "['Параметры',\n",
       " 'модели',\n",
       " 'задаются',\n",
       " 'либо',\n",
       " 'статическими',\n",
       " 'характеристиками',\n",
       " ',',\n",
       " 'либо',\n",
       " 'множествами',\n",
       " 'возможных',\n",
       " 'значений']"
      ]
     },
     "execution_count": 53,
     "metadata": {},
     "output_type": "execute_result"
    }
   ],
   "source": [
    "01/001/1210/1240\n",
    "01/055/2120/2130/2160/2210/2240'\n",
    "\n",
    "играли\n",
    "род числ падеж лицо\n",
    "00/125/1200/2200/3200"
   ]
  },
  {
   "cell_type": "code",
   "execution_count": 5,
   "metadata": {},
   "outputs": [],
   "source": [
    "s = TextStorage()"
   ]
  },
  {
   "cell_type": "code",
   "execution_count": 14,
   "metadata": {},
   "outputs": [
    {
     "data": {
      "text/plain": [
       "{'first_word_ind': [1, 5, 9],\n",
       " 'word_comb_type': ['NA', 'NA', 'NA'],\n",
       " 'main_word_ind': [1, 2, 1]}"
      ]
     },
     "execution_count": 14,
     "metadata": {},
     "output_type": "execute_result"
    }
   ],
   "source": [
    "sent = \"Параметры модели задаются либо статическими характеристиками , либо множествами возможных значений\"\n",
    "s2=sent.split()\n",
    "storage_interface(s2)"
   ]
  },
  {
   "cell_type": "code",
   "execution_count": 77,
   "metadata": {},
   "outputs": [
    {
     "data": {
      "text/plain": [
       "(['S', 'N', 'P', '&', 'A', 'N', ',', '&', 'N', 'A', 'N'], 0, 2)"
      ]
     },
     "execution_count": 77,
     "metadata": {},
     "output_type": "execute_result"
    }
   ],
   "source": [
    "s_p(s2_m,morf)"
   ]
  }
 ],
 "metadata": {
  "kernelspec": {
   "display_name": "Python 3",
   "language": "python",
   "name": "python3"
  },
  "language_info": {
   "codemirror_mode": {
    "name": "ipython",
    "version": 3
   },
   "file_extension": ".py",
   "mimetype": "text/x-python",
   "name": "python",
   "nbconvert_exporter": "python",
   "pygments_lexer": "ipython3",
   "version": "3.7.3"
  }
 },
 "nbformat": 4,
 "nbformat_minor": 2
}
