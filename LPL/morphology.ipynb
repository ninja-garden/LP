{
 "cells": [
  {
   "cell_type": "code",
   "execution_count": 7,
   "metadata": {
    "scrolled": false
   },
   "outputs": [],
   "source": [
    "import pandas as pd\n",
    "import numpy as np\n",
    "from tqdm import tqdm\n",
    "import re\n",
    "import random\n",
    "import string"
   ]
  },
  {
   "cell_type": "code",
   "execution_count": 8,
   "metadata": {},
   "outputs": [],
   "source": [
    "class Morphology:\n",
    "    def __init__(self, path_to_flex=\"./ma_flex.uni\", path_to_words=\"./ma_WORDS.uni\", path_to_fk_gi=\"./table_fk_gi.uni\"):\n",
    "        self.flex = self.read_txt(path_to_flex, [\"word\", \"value\"])\n",
    "        self.words = self.read_txt(path_to_words, [\"word\", \"value\"])\n",
    "        self.fk_gi = self.read_txt(path_to_fk_gi, [\"class\", \"target\",\"ending\"])\n",
    "        \n",
    "    def read_txt(self, file_name: str, cols: []):\n",
    "        tmp =  pd.read_csv(file_name, sep=\" \", header=None, names=cols)\n",
    "        if (tmp.isnull().values.any()):\n",
    "            tmp = pd.read_csv(self.preprocess(file_name), sep=\" \", names=cols)\n",
    "        return tmp                              \n",
    "            \n",
    "    \n",
    "    def format_string(self, string):\n",
    "            for i in range(len(string)):\n",
    "                if(i < len(string) - 1 and i >= 1):\n",
    "                    if (string[i] == \"/\"\\\n",
    "                        and not string[i - 1].isdigit()\\\n",
    "                        and string[i+1].isdigit()):\n",
    "                            return string[:i] + \" /\" + string[i+1:]\n",
    "                            \n",
    "    def preprocess(self, path_to_file):\n",
    "        tmp = pd.read_csv(path_to_file, sep=\"\\n\", header=None, names=[\"unprocessed\"])\n",
    "        tmp[\"processed\"] = tmp[\"unprocessed\"].apply(self.format_string)\n",
    "        tmp.drop(\"unprocessed\", axis=1,inplace=True)\n",
    "        name = self.randomString() +\".csv\"\n",
    "        tmp.to_csv(name, header=None, index=False)\n",
    "        return name\n",
    "        \n",
    "                              \n",
    "    def randomString(self,stringLength=10):\n",
    "        \"\"\"Generate a random string of fixed length \"\"\"\n",
    "        letters = string.ascii_lowercase\n",
    "        return ''.join(random.choice(letters) for i in range(stringLength))\n",
    "                              \n",
    "                              \n",
    "    def direct_entry(self, word: str) -> int:\n",
    "        try:\n",
    "            rt = self.words[self.words['word'] == word].values[0]\n",
    "            split = rt[1].split('/')\n",
    "            end = rt[0][-int(split[1]):]\n",
    "            if (split[1] == \"00\"):\n",
    "                end = '+'\n",
    "            fk = split[2]\n",
    "        except:\n",
    "            return 'NILL'\n",
    "        else:\n",
    "            return [end, fk]\n",
    "        \n",
    "    def rev_entry(self,word: 'str') -> int:\n",
    "        rev_word = ''.join(reversed(word))\n",
    "        temp_w = rev_word\n",
    "        df = self.flex\n",
    "        while True:\n",
    "            for w in df['word'].values:\n",
    "                fw = re.match(temp_w, w)\n",
    "                if fw:\n",
    "                    temp_asd = df[df['word'] == w]['value'].values[0].split('/')\n",
    "                    temp_asd2 = df[df['word'] == w]['value'].values[0]\n",
    "                    for i in range(len(temp_asd)):\n",
    "                        temp_asd[i] = int(temp_asd[i])\n",
    "                    temp_ret = temp_w[:temp_asd[0]]\n",
    "                    if len(temp_ret) == 0:\n",
    "                        temp_ret = '+'\n",
    "                    return [temp_ret, temp_asd2]\n",
    "                    break\n",
    "            if len(temp_w):\n",
    "                temp_w = temp_w[:-1]\n",
    "            else:\n",
    "                break\n",
    "                \n",
    "    def get_grammar_info(self, word: str):\n",
    "        info = self.direct_entry(word)\n",
    "        df = self.fk_gi\n",
    "        if (info == 'NILL'):\n",
    "            info = self.rev_entry(word)\n",
    "        if (info != 'NILL' and info):\n",
    "            fk = info[1]\n",
    "            ending = info[0]\n",
    "            item = df[(df['class'] == int(fk)) & (df[\"ending\"] == ending)]\n",
    "            return \"/\".join(str(x) for x in item[\"target\"].values)\n",
    "        else:     \n",
    "            return None    "
   ]
  },
  {
   "cell_type": "code",
   "execution_count": 9,
   "metadata": {},
   "outputs": [
    {
     "data": {
      "text/plain": [
       "'2120/2130/2150/2160'"
      ]
     },
     "execution_count": 9,
     "metadata": {},
     "output_type": "execute_result"
    }
   ],
   "source": [
    "mf = Morphology()\n",
    "\n",
    "mf.get_grammar_info(\"моей\")"
   ]
  }
 ],
 "metadata": {
  "kernelspec": {
   "display_name": "Python 3",
   "language": "python",
   "name": "python3"
  },
  "language_info": {
   "codemirror_mode": {
    "name": "ipython",
    "version": 3
   },
   "file_extension": ".py",
   "mimetype": "text/x-python",
   "name": "python",
   "nbconvert_exporter": "python",
   "pygments_lexer": "ipython3",
   "version": "3.7.4"
  }
 },
 "nbformat": 4,
 "nbformat_minor": 2
}
